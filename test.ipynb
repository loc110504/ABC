{
 "cells": [
  {
   "cell_type": "code",
   "execution_count": 1,
   "id": "1b603b27",
   "metadata": {},
   "outputs": [
    {
     "name": "stdout",
     "output_type": "stream",
     "text": [
      "Datasets in 'data/ACDC2017/ACDC_for2D/TestSet_volumes/patient004_frame15.h5': ['image', 'label']\n",
      "\n",
      "  • image        shape=(10, 256, 232), dtype=float64\n",
      "  • label        shape=(10, 256, 232), dtype=uint8\n"
     ]
    }
   ],
   "source": [
    "import h5py\n",
    "\n",
    "def inspect_h5(path):\n",
    "    \"\"\"\n",
    "    Mở file .h5 tại đường dẫn `path`,\n",
    "    liệt kê các dataset, shape và dtype của chúng.\n",
    "    \"\"\"\n",
    "    with h5py.File(path, 'r') as f:\n",
    "        keys = list(f.keys())\n",
    "        print(f\"Datasets in {path!r}: {keys}\\n\")\n",
    "        for k in keys:\n",
    "            ds = f[k]\n",
    "            print(f\"  • {k:12s} shape={ds.shape}, dtype={ds.dtype}\")\n",
    "\n",
    "if __name__ == \"__main__\":\n",
    "    file_path = \"data/ACDC2017/ACDC_for2D/TestSet_volumes/patient004_frame15.h5\"  # ví dụ\n",
    "    inspect_h5(file_path)\n"
   ]
  },
  {
   "cell_type": "code",
   "execution_count": 2,
   "id": "1736c98a",
   "metadata": {},
   "outputs": [
    {
     "name": "stdout",
     "output_type": "stream",
     "text": [
      "Array shape (Z, Y, X): (10, 256, 232)\n",
      "Size (X, Y, Z): (232, 256, 10)\n",
      "Spacing (X, Y, Z): (1.3671875, 1.3671875, 10.0)\n",
      "Origin  (X, Y, Z): (0.0, 0.0, 0.0)\n",
      "Direction: (1.0, 0.0, 0.0, 0.0, 1.0, 0.0, 0.0, 0.0, 1.0)\n"
     ]
    },
    {
     "name": "stderr",
     "output_type": "stream",
     "text": [
      "WARNING: In /tmp/SimpleITK-build/ITK/Modules/IO/NIFTI/src/itkNiftiImageIO.cxx, line 1934\n",
      "NiftiImageIO (0x25d4f50): patient004_frame15.nii.gz has unexpected scales in sform\n",
      "\n",
      "WARNING: In /tmp/SimpleITK-build/ITK/Modules/IO/NIFTI/src/itkNiftiImageIO.cxx, line 1934\n",
      "NiftiImageIO (0x25d4f50): patient004_frame15.nii.gz has unexpected scales in sform\n",
      "\n"
     ]
    }
   ],
   "source": [
    "import SimpleITK as sitk\n",
    "\n",
    "# Thay đường dẫn bằng file bạn vừa download\n",
    "nii_path = \"patient004_frame15.nii.gz\"\n",
    "\n",
    "img = sitk.ReadImage(nii_path)\n",
    "spacing   = img.GetSpacing()    # (spacing_x, spacing_y, spacing_z)\n",
    "origin    = img.GetOrigin()     # (origin_x, origin_y, origin_z)\n",
    "direction = img.GetDirection()  # 9 số thể hiện ma trận xoay\n",
    "\n",
    "size = img.GetSize()            # (size_x, size_y, size_z)\n",
    "array = sitk.GetArrayFromImage(img)  \n",
    "print(\"Array shape (Z, Y, X):\", array.shape)\n",
    "\n",
    "print(\"Size (X, Y, Z):\", size)\n",
    "print(\"Spacing (X, Y, Z):\", spacing)\n",
    "print(\"Origin  (X, Y, Z):\", origin)\n",
    "print(\"Direction:\", direction)\n"
   ]
  },
  {
   "cell_type": "code",
   "execution_count": 3,
   "id": "6abde778",
   "metadata": {},
   "outputs": [
    {
     "name": "stdout",
     "output_type": "stream",
     "text": [
      "Array shape (Z, Y, X): (10, 224, 180)\n",
      "Size (X, Y, Z): (180, 224, 10)\n",
      "Spacing (X, Y, Z): (1.5625, 1.5625, 7.0)\n",
      "Origin  (X, Y, Z): (0.0, 0.0, 0.0)\n",
      "Direction: (1.0, 0.0, 0.0, 0.0, 1.0, 0.0, 0.0, 0.0, 1.0)\n"
     ]
    },
    {
     "name": "stderr",
     "output_type": "stream",
     "text": [
      "WARNING: In /tmp/SimpleITK-build/ITK/Modules/IO/NIFTI/src/itkNiftiImageIO.cxx, line 1934\n",
      "NiftiImageIO (0x26f8790): patient093_frame01.nii.gz has unexpected scales in sform\n",
      "\n",
      "WARNING: In /tmp/SimpleITK-build/ITK/Modules/IO/NIFTI/src/itkNiftiImageIO.cxx, line 1934\n",
      "NiftiImageIO (0x26f8790): patient093_frame01.nii.gz has unexpected scales in sform\n",
      "\n"
     ]
    }
   ],
   "source": [
    "import SimpleITK as sitk\n",
    "\n",
    "# Thay đường dẫn bằng file bạn vừa download\n",
    "nii_path = \"patient093_frame01.nii.gz\"\n",
    "\n",
    "img = sitk.ReadImage(nii_path)\n",
    "spacing   = img.GetSpacing()    # (spacing_x, spacing_y, spacing_z)\n",
    "origin    = img.GetOrigin()     # (origin_x, origin_y, origin_z)\n",
    "direction = img.GetDirection()  # 9 số thể hiện ma trận xoay\n",
    "\n",
    "size = img.GetSize()            # (size_x, size_y, size_z)\n",
    "array = sitk.GetArrayFromImage(img)  \n",
    "print(\"Array shape (Z, Y, X):\", array.shape)\n",
    "\n",
    "print(\"Size (X, Y, Z):\", size)\n",
    "print(\"Spacing (X, Y, Z):\", spacing)\n",
    "print(\"Origin  (X, Y, Z):\", origin)\n",
    "print(\"Direction:\", direction)\n"
   ]
  },
  {
   "cell_type": "code",
   "execution_count": 6,
   "id": "d4eba45f",
   "metadata": {},
   "outputs": [],
   "source": [
    "import os\n",
    "\n",
    "def find_org_nii(case_name, root_for2d):\n",
    "    \"\"\"\n",
    "    Tìm file {case_name}.nii.gz trong thư mục images_N, phù hợp với cấu trúc:\n",
    "      root_for2d.replace('_for2D','')/images_N/{case_name}.nii.gz\n",
    "    hoặc\n",
    "      …/images_N/patientXXX/{case_name}.nii.gz\n",
    "\n",
    "    Args:\n",
    "        case_name (str): ví dụ \"patient004_frame15\"\n",
    "        root_for2d (str): ví dụ \".../ACDC_for2D\"\n",
    "\n",
    "    Returns:\n",
    "        str: full path đến .nii.gz\n",
    "    \"\"\"\n",
    "    # 1) Lấy thư mục chứa ảnh gốc (không for2D)\n",
    "    base = root_for2d.replace(\"_for2D\", \"\")\n",
    "    images_n = os.path.join(base, \"images_N\")\n",
    "\n",
    "    # 2) thử tìm trực tiếp\n",
    "    direct = os.path.join(images_n, f\"{case_name}.nii.gz\")\n",
    "    if os.path.exists(direct):\n",
    "        return direct\n",
    "\n",
    "    # 3) thử tìm trong từng subfolder (patientXXX/)\n",
    "    for sub in os.listdir(images_n):\n",
    "        subdir = os.path.join(images_n, sub)\n",
    "        if not os.path.isdir(subdir):\n",
    "            continue\n",
    "        candidate = os.path.join(subdir, f\"{case_name}.nii.gz\")\n",
    "        if os.path.exists(candidate):\n",
    "            return candidate\n",
    "\n",
    "    # 4) không tìm thấy\n",
    "    raise FileNotFoundError(\n",
    "        f\"Không tìm thấy {case_name}.nii.gz trong {images_n} hoặc các subfolder của nó.\"\n",
    "    )\n"
   ]
  },
  {
   "cell_type": "code",
   "execution_count": 14,
   "id": "254cd293",
   "metadata": {},
   "outputs": [
    {
     "name": "stdout",
     "output_type": "stream",
     "text": [
      "Found org nii at: data/ACDC2017/ACDC/images_N/patient004/patient004_frame15.nii.gz\n"
     ]
    }
   ],
   "source": [
    "case_name = \"patient004_frame15\"\n",
    "root_for2d = \"data/ACDC2017/ACDC_for2D\"\n",
    "org_nii = find_org_nii(case_name, root_for2d)\n",
    "print(\"Found org nii at:\", org_nii)\n"
   ]
  },
  {
   "cell_type": "code",
   "execution_count": 16,
   "id": "ef10a8df",
   "metadata": {},
   "outputs": [
    {
     "name": "stdout",
     "output_type": "stream",
     "text": [
      "Spacing: (1.3671875, 1.3671875, 10.0)\n"
     ]
    },
    {
     "name": "stderr",
     "output_type": "stream",
     "text": [
      "WARNING: In /tmp/SimpleITK-build/ITK/Modules/IO/NIFTI/src/itkNiftiImageIO.cxx, line 1934\n",
      "NiftiImageIO (0x343c770): data/ACDC2017/ACDC/images_N/patient004/patient004_frame15.nii.gz has unexpected scales in sform\n",
      "\n",
      "WARNING: In /tmp/SimpleITK-build/ITK/Modules/IO/NIFTI/src/itkNiftiImageIO.cxx, line 1934\n",
      "NiftiImageIO (0x343c770): data/ACDC2017/ACDC/images_N/patient004/patient004_frame15.nii.gz has unexpected scales in sform\n",
      "\n"
     ]
    }
   ],
   "source": [
    "import SimpleITK as sitk\n",
    "\n",
    "org_itk = sitk.ReadImage(org_nii)\n",
    "spacing = org_itk.GetSpacing()\n",
    "print(\"Spacing:\", spacing)"
   ]
  },
  {
   "cell_type": "code",
   "execution_count": null,
   "id": "5ac9bc9f",
   "metadata": {},
   "outputs": [],
   "source": []
  }
 ],
 "metadata": {
  "kernelspec": {
   "display_name": "crossmatch",
   "language": "python",
   "name": "python3"
  },
  "language_info": {
   "codemirror_mode": {
    "name": "ipython",
    "version": 3
   },
   "file_extension": ".py",
   "mimetype": "text/x-python",
   "name": "python",
   "nbconvert_exporter": "python",
   "pygments_lexer": "ipython3",
   "version": "3.11.11"
  }
 },
 "nbformat": 4,
 "nbformat_minor": 5
}
